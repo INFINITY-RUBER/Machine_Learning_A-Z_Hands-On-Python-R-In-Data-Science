{
  "nbformat": 4,
  "nbformat_minor": 0,
  "metadata": {
    "colab": {
      "name": "Thompson Sampling",
      "provenance": [],
      "collapsed_sections": [],
      "toc_visible": true,
      "include_colab_link": true
    },
    "kernelspec": {
      "name": "python3",
      "display_name": "Python 3"
    }
  },
  "cells": [
    {
      "cell_type": "markdown",
      "metadata": {
        "id": "view-in-github",
        "colab_type": "text"
      },
      "source": [
        "<a href=\"https://colab.research.google.com/github/INFINITY-RUBER/Machine_Learning_A-Z_Hands-On-Python-R-In-Data-Science/blob/master/Part%206%20-%20Reinforcement%20Learning/Section%2033%20-%20Thompson%20Sampling/Python/thompson_sampling.ipynb\" target=\"_parent\"><img src=\"https://colab.research.google.com/assets/colab-badge.svg\" alt=\"Open In Colab\"/></a>"
      ]
    },
    {
      "cell_type": "markdown",
      "metadata": {
        "id": "vPKTIRAtx232",
        "colab_type": "text"
      },
      "source": [
        "# Thompson Sampling"
      ]
    },
    {
      "cell_type": "markdown",
      "metadata": {
        "id": "PqPv9zpAx-EE",
        "colab_type": "text"
      },
      "source": [
        "## Importing the libraries"
      ]
    },
    {
      "cell_type": "code",
      "metadata": {
        "id": "lozuE-Fhx_QB",
        "colab_type": "code",
        "colab": {}
      },
      "source": [
        "import numpy as np\n",
        "import matplotlib.pyplot as plt\n",
        "import pandas as pd"
      ],
      "execution_count": 14,
      "outputs": []
    },
    {
      "cell_type": "markdown",
      "metadata": {
        "id": "iqpVk5HhyGmO",
        "colab_type": "text"
      },
      "source": [
        "## Importing the dataset"
      ]
    },
    {
      "cell_type": "code",
      "metadata": {
        "id": "kY4zzW4hyNfA",
        "colab_type": "code",
        "colab": {}
      },
      "source": [
        "dataset = pd.read_csv('Ads_CTR_Optimisation.csv')"
      ],
      "execution_count": 15,
      "outputs": []
    },
    {
      "cell_type": "markdown",
      "metadata": {
        "id": "WqoXeWOYyQhB",
        "colab_type": "text"
      },
      "source": [
        "## Implementing Thompson Sampling"
      ]
    },
    {
      "cell_type": "code",
      "metadata": {
        "id": "PCiHv51pyUII",
        "colab_type": "code",
        "colab": {}
      },
      "source": [
        "import random\n",
        "\n",
        "N = 500\n",
        "d = 10\n",
        "ads_selected = []#contendra los anucion selecionados\n",
        "numbers_of_rewards_1 = [0] * d # lista iniciada en ceros de 10 elementos\n",
        "numbers_of_rewards_0 = [0] * d\n",
        "total_reward = 0\n",
        "for n in range(0, N):\n",
        "    ad = 0\n",
        "    max_random = 0\n",
        "    for i in range(0, d):\n",
        "        random_beta = random.betavariate(numbers_of_rewards_1[i] + 1, numbers_of_rewards_0[i] + 1)\n",
        "        if random_beta > max_random:\n",
        "            max_random = random_beta\n",
        "            ad = i\n",
        "    ads_selected.append(ad)\n",
        "    reward = dataset.values[n, ad]\n",
        "    if reward == 1:\n",
        "        numbers_of_rewards_1[ad] = numbers_of_rewards_1[ad] + 1\n",
        "    else:\n",
        "        numbers_of_rewards_0[ad] = numbers_of_rewards_0[ad] + 1\n",
        "    total_reward = total_reward + reward"
      ],
      "execution_count": 16,
      "outputs": []
    },
    {
      "cell_type": "markdown",
      "metadata": {
        "id": "tweWsgTHyXhv",
        "colab_type": "text"
      },
      "source": [
        "## Visualising the results - Histogram"
      ]
    },
    {
      "cell_type": "code",
      "metadata": {
        "id": "k8DJmN06yak3",
        "colab_type": "code",
        "colab": {
          "base_uri": "https://localhost:8080/",
          "height": 295
        },
        "outputId": "9e78b252-6439-49c3-8ec6-afbc32e8f3a9"
      },
      "source": [
        "plt.style.use('dark_background')\n",
        "plt.hist(ads_selected)\n",
        "plt.title('Histogram of ads selections')\n",
        "plt.xlabel('Ads')\n",
        "plt.ylabel('Number of times each ad was selected')\n",
        "plt.show()"
      ],
      "execution_count": 17,
      "outputs": [
        {
          "output_type": "display_data",
          "data": {
            "image/png": "[encoded data removed]",
            "text/plain": [
              "<Figure size 432x288 with 1 Axes>"
            ]
          },
          "metadata": {
            "tags": []
          }
        }
      ]
    },
    {
      "cell_type": "code",
      "metadata": {
        "id": "aR137SldMn-B",
        "colab_type": "code",
        "colab": {}
      },
      "source": [
        ""
      ],
      "execution_count": 17,
      "outputs": []
    }
  ]
}