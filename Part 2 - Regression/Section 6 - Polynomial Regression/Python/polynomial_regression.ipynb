{
  "nbformat": 4,
  "nbformat_minor": 0,
  "metadata": {
    "colab": {
      "name": "polynomial_regression.ipynb",
      "provenance": [],
      "collapsed_sections": [],
      "toc_visible": true,
      "include_colab_link": true
    },
    "kernelspec": {
      "name": "python3",
      "display_name": "Python 3"
    }
  },
  "cells": [
    {
      "cell_type": "markdown",
      "metadata": {
        "id": "view-in-github",
        "colab_type": "text"
      },
      "source": [
        "<a href=\"https://colab.research.google.com/github/INFINITY-RUBER/Machine_Learning_A-Z_Hands-On-Python-R-In-Data-Science/blob/master/Part%202%20-%20Regression/Section%206%20-%20Polynomial%20Regression/Python/polynomial_regression.ipynb\" target=\"_parent\"><img src=\"https://colab.research.google.com/assets/colab-badge.svg\" alt=\"Open In Colab\"/></a>"
      ]
    },
    {
      "cell_type": "markdown",
      "metadata": {
        "id": "vN99YjPTDena",
        "colab_type": "text"
      },
      "source": [
        "# Polynomial Regression"
      ]
    },
    {
      "cell_type": "markdown",
      "metadata": {
        "id": "ZIx_naXnDyHd",
        "colab_type": "text"
      },
      "source": [
        "## Importing the libraries"
      ]
    },
    {
      "cell_type": "code",
      "metadata": {
        "id": "FjnmdyPLD2tS",
        "colab_type": "code",
        "colab": {}
      },
      "source": [
        "import numpy as np\n",
        "import matplotlib.pyplot as plt\n",
        "import pandas as pd"
      ],
      "execution_count": 2,
      "outputs": []
    },
    {
      "cell_type": "markdown",
      "metadata": {
        "id": "6c8YExmOD5x5",
        "colab_type": "text"
      },
      "source": [
        "## Importing the dataset"
      ]
    },
    {
      "cell_type": "code",
      "metadata": {
        "id": "nQOdXhjXD_AE",
        "colab_type": "code",
        "colab": {}
      },
      "source": [
        "dataset = pd.read_csv('Position_Salaries.csv')\n",
        "X = dataset.iloc[:, 1:-1].values# dolo tomo de la segunda columna (value)\n",
        "y = dataset.iloc[:, -1].values"
      ],
      "execution_count": 3,
      "outputs": []
    },
    {
      "cell_type": "code",
      "metadata": {
        "id": "QWViyTldcd-i",
        "colab_type": "code",
        "colab": {
          "base_uri": "https://localhost:8080/",
          "height": 199
        },
        "outputId": "dd1233a4-96eb-4bb8-88b8-d8e9d0478f6c"
      },
      "source": [
        "print(X)"
      ],
      "execution_count": 4,
      "outputs": [
        {
          "output_type": "stream",
          "text": [
            "[[ 1]\n",
            " [ 2]\n",
            " [ 3]\n",
            " [ 4]\n",
            " [ 5]\n",
            " [ 6]\n",
            " [ 7]\n",
            " [ 8]\n",
            " [ 9]\n",
            " [10]]\n"
          ],
          "name": "stdout"
        }
      ]
    },
    {
      "cell_type": "code",
      "metadata": {
        "id": "vQymWUmJcl8j",
        "colab_type": "code",
        "colab": {
          "base_uri": "https://localhost:8080/",
          "height": 54
        },
        "outputId": "cf1318e7-cf51-48c5-90cb-cab081b4865a"
      },
      "source": [
        "print(y)"
      ],
      "execution_count": 5,
      "outputs": [
        {
          "output_type": "stream",
          "text": [
            "[  45000   50000   60000   80000  110000  150000  200000  300000  500000\n",
            " 1000000]\n"
          ],
          "name": "stdout"
        }
      ]
    },
    {
      "cell_type": "markdown",
      "metadata": {
        "id": "Le8SEL-YEOLb",
        "colab_type": "text"
      },
      "source": [
        "## Training the Linear Regression model on the whole dataset\n",
        "(Entrenamiento del modelo de regresión lineal en todo el conjunto de datos)"
      ]
    },
    {
      "cell_type": "code",
      "metadata": {
        "id": "2eZ4xxbKEcBk",
        "colab_type": "code",
        "colab": {
          "base_uri": "https://localhost:8080/",
          "height": 35
        },
        "outputId": "16c720ff-d1bf-43c5-8a86-09d1407fcc99"
      },
      "source": [
        "from sklearn.linear_model import LinearRegression \n",
        "lin_reg = LinearRegression()\n",
        "lin_reg.fit(X, y)"
      ],
      "execution_count": 6,
      "outputs": [
        {
          "output_type": "execute_result",
          "data": {
            "text/plain": [
              "LinearRegression(copy_X=True, fit_intercept=True, n_jobs=None, normalize=False)"
            ]
          },
          "metadata": {
            "tags": []
          },
          "execution_count": 6
        }
      ]
    },
    {
      "cell_type": "markdown",
      "metadata": {
        "id": "Rb5nWuSHEfBV",
        "colab_type": "text"
      },
      "source": [
        "## Training the Polynomial Regression model on the whole dataset\n",
        "(Entrenaminto del modelo de regresión polinómica en todo el conjunto de datos)"
      ]
    },
    {
      "cell_type": "code",
      "metadata": {
        "id": "HYplp4pTEm0O",
        "colab_type": "code",
        "colab": {
          "base_uri": "https://localhost:8080/",
          "height": 35
        },
        "outputId": "e10df66f-1fc1-41be-d0a7-c1f7a5b6cfda"
      },
      "source": [
        "# cargamos libreria PolynomialFeatures \n",
        "from sklearn.preprocessing import PolynomialFeatures\n",
        "poly_reg = PolynomialFeatures(degree = 2)\n",
        "X_poly = poly_reg.fit_transform(X)# funcio polinomial\n",
        "lin_reg_2 = LinearRegression()# objeto regresion lineal \n",
        "lin_reg_2.fit(X_poly, y) #crea la funcion polineal"
      ],
      "execution_count": 12,
      "outputs": [
        {
          "output_type": "execute_result",
          "data": {
            "text/plain": [
              "LinearRegression(copy_X=True, fit_intercept=True, n_jobs=None, normalize=False)"
            ]
          },
          "metadata": {
            "tags": []
          },
          "execution_count": 12
        }
      ]
    },
    {
      "cell_type": "markdown",
      "metadata": {
        "id": "0O8R0tzbEpvy",
        "colab_type": "text"
      },
      "source": [
        "## Visualising the Linear Regression results\n",
        "(Visualizando los resultados de la regresión lineal)"
      ]
    },
    {
      "cell_type": "code",
      "metadata": {
        "id": "PqEoWS21gsEZ",
        "colab_type": "code",
        "colab": {}
      },
      "source": [
        "plt.style.use('fivethirtyeight')\n",
        "#plt.style.use('dark_background')"
      ],
      "execution_count": 9,
      "outputs": []
    },
    {
      "cell_type": "code",
      "metadata": {
        "id": "dcTIBAEdEyve",
        "colab_type": "code",
        "colab": {
          "base_uri": "https://localhost:8080/",
          "height": 325
        },
        "outputId": "94c1a2a9-d5fb-4691-a281-9e4af2b57478"
      },
      "source": [
        "\n",
        "plt.scatter(X, y, color = 'red')\n",
        "plt.plot(X, lin_reg.predict(X), color = 'blue')\n",
        "plt.title('Truth or Bluff (Linear Regression)')\n",
        "plt.xlabel('Position Level')\n",
        "plt.ylabel('Salary')\n",
        "plt.show()"
      ],
      "execution_count": 10,
      "outputs": [
        {
          "output_type": "display_data",
          "data": {
            "image/png": "[encoded data removed]",
            "text/plain": [
              "<Figure size 432x288 with 1 Axes>"
            ]
          },
          "metadata": {
            "tags": []
          }
        }
      ]
    },
    {
      "cell_type": "markdown",
      "metadata": {
        "id": "stOnSo74E52m",
        "colab_type": "text"
      },
      "source": [
        "## Visualising the Polynomial Regression results\n",
        "(Visualizando los resultados de la regresión polinómica)"
      ]
    },
    {
      "cell_type": "code",
      "metadata": {
        "id": "UCOcurIQE7Zv",
        "colab_type": "code",
        "colab": {
          "base_uri": "https://localhost:8080/",
          "height": 325
        },
        "outputId": "2958213a-9a09-426d-ea05-9d441118d8a3"
      },
      "source": [
        "plt.scatter(X, y, color = 'red')\n",
        "plt.plot(X, lin_reg_2.predict(poly_reg.fit_transform(X)), color = 'blue')\n",
        "plt.title('Truth or Bluff (Polynomial Regression)')\n",
        "plt.xlabel('Position level')\n",
        "plt.ylabel('Salary')\n",
        "plt.show()"
      ],
      "execution_count": 13,
      "outputs": [
        {
          "output_type": "display_data",
          "data": {
            "image/png": "[encoded data removed]",
            "text/plain": [
              "<Figure size 432x288 with 1 Axes>"
            ]
          },
          "metadata": {
            "tags": []
          }
        }
      ]
    },
    {
      "cell_type": "code",
      "metadata": {
        "id": "nnw9O49kh8as",
        "colab_type": "code",
        "colab": {
          "base_uri": "https://localhost:8080/",
          "height": 35
        },
        "outputId": "27d35cbb-cad4-493e-a121-cf1bf4b51ab0"
      },
      "source": [
        "# cargamos libreria PolynomialFeatures \n",
        "from sklearn.preprocessing import PolynomialFeatures\n",
        "poly_reg = PolynomialFeatures(degree = 4)\n",
        "X_poly = poly_reg.fit_transform(X)# funcio polinomial\n",
        "lin_reg_2 = LinearRegression()# objeto regresion lineal \n",
        "lin_reg_2.fit(X_poly, y) #crea la funcion polineal"
      ],
      "execution_count": 14,
      "outputs": [
        {
          "output_type": "execute_result",
          "data": {
            "text/plain": [
              "LinearRegression(copy_X=True, fit_intercept=True, n_jobs=None, normalize=False)"
            ]
          },
          "metadata": {
            "tags": []
          },
          "execution_count": 14
        }
      ]
    },
    {
      "cell_type": "code",
      "metadata": {
        "id": "T6e3C3QDiCcT",
        "colab_type": "code",
        "colab": {
          "base_uri": "https://localhost:8080/",
          "height": 325
        },
        "outputId": "130b7e6d-0c05-42cd-e465-2255e59f628f"
      },
      "source": [
        "plt.scatter(X, y, color = 'red')\n",
        "plt.plot(X, lin_reg_2.predict(poly_reg.fit_transform(X)), color = 'blue')\n",
        "plt.title('Truth or Bluff (Polynomial Regression)')\n",
        "plt.xlabel('Position level')\n",
        "plt.ylabel('Salary')\n",
        "plt.show()"
      ],
      "execution_count": 15,
      "outputs": [
        {
          "output_type": "display_data",
          "data": {
            "image/png": "[encoded data removed]",
            "text/plain": [
              "<Figure size 432x288 with 1 Axes>"
            ]
          },
          "metadata": {
            "tags": []
          }
        }
      ]
    },
    {
      "cell_type": "markdown",
      "metadata": {
        "id": "U_qsAMKnE-PJ",
        "colab_type": "text"
      },
      "source": [
        "## Visualising the Polynomial Regression results (for higher resolution and smoother curve)"
      ]
    },
    {
      "cell_type": "code",
      "metadata": {
        "id": "iE6EnC3fFClE",
        "colab_type": "code",
        "colab": {
          "base_uri": "https://localhost:8080/",
          "height": 325
        },
        "outputId": "d4342c86-bff2-4853-9b59-06fde99a1be7"
      },
      "source": [
        "X_grid = np.arange(min(X), max(X), 0.1)\n",
        "X_grid = X_grid.reshape((len(X_grid), 1))\n",
        "plt.scatter(X, y, color = 'red')\n",
        "plt.plot(X_grid, lin_reg_2.predict(poly_reg.fit_transform(X_grid)), color = 'blue')\n",
        "plt.title('Truth or Bluff (Polynomial Regression)')\n",
        "plt.xlabel('Position level')\n",
        "plt.ylabel('Salary')\n",
        "plt.show()"
      ],
      "execution_count": 16,
      "outputs": [
        {
          "output_type": "display_data",
          "data": {
            "image/png": "[encoded data removed]",
            "text/plain": [
              "<Figure size 432x288 with 1 Axes>"
            ]
          },
          "metadata": {
            "tags": []
          }
        }
      ]
    },
    {
      "cell_type": "markdown",
      "metadata": {
        "id": "diyJFZHhFFeK",
        "colab_type": "text"
      },
      "source": [
        "## Predicting a new result with Linear Regression\n",
        "(Predecir un nuevo resultado con regresión lineal)"
      ]
    },
    {
      "cell_type": "code",
      "metadata": {
        "id": "Blmp6Hn7FJW6",
        "colab_type": "code",
        "colab": {
          "base_uri": "https://localhost:8080/",
          "height": 35
        },
        "outputId": "ec898fab-78e8-4183-f67a-f50cbe5c0cbf"
      },
      "source": [
        "lin_reg.predict([[6.5]])"
      ],
      "execution_count": 17,
      "outputs": [
        {
          "output_type": "execute_result",
          "data": {
            "text/plain": [
              "array([330378.78787879])"
            ]
          },
          "metadata": {
            "tags": []
          },
          "execution_count": 17
        }
      ]
    },
    {
      "cell_type": "markdown",
      "metadata": {
        "id": "DW7I7ZVDFNkk",
        "colab_type": "text"
      },
      "source": [
        "## Predicting a new result with Polynomial Regression\n",
        "Predecir un nuevo resultado con regresión polinómica"
      ]
    },
    {
      "cell_type": "code",
      "metadata": {
        "id": "uQmtnyTHFRGG",
        "colab_type": "code",
        "colab": {
          "base_uri": "https://localhost:8080/",
          "height": 35
        },
        "outputId": "06428a09-815d-40d9-9c89-d3ecd5b9a28d"
      },
      "source": [
        "lin_reg_2.predict(poly_reg.fit_transform([[6.5]]))"
      ],
      "execution_count": 18,
      "outputs": [
        {
          "output_type": "execute_result",
          "data": {
            "text/plain": [
              "array([158862.45265155])"
            ]
          },
          "metadata": {
            "tags": []
          },
          "execution_count": 18
        }
      ]
    },
    {
      "cell_type": "markdown",
      "metadata": {
        "id": "O4XAVVzgl2G1",
        "colab_type": "text"
      },
      "source": [
        "# Polynomial Regression en R"
      ]
    },
    {
      "cell_type": "code",
      "metadata": {
        "id": "syrHjz67m-op",
        "colab_type": "code",
        "colab": {
          "base_uri": "https://localhost:8080/",
          "height": 110
        },
        "outputId": "afe992bb-6c69-4e60-84e2-88860d6d2db9"
      },
      "source": [
        "import rpy2.robjects as ro\n",
        "%load_ext rpy2.ipython"
      ],
      "execution_count": 20,
      "outputs": [
        {
          "output_type": "stream",
          "text": [
            "/usr/local/lib/python3.6/dist-packages/rpy2/robjects/pandas2ri.py:14: FutureWarning: pandas.core.index is deprecated and will be removed in a future version.  The public classes are available in the top-level namespace.\n",
            "  from pandas.core.index import Index as PandasIndex\n",
            "/usr/local/lib/python3.6/dist-packages/rpy2/robjects/pandas2ri.py:34: UserWarning: pandas >= 1.0 is not supported.\n",
            "  warnings.warn('pandas >= 1.0 is not supported.')\n"
          ],
          "name": "stderr"
        }
      ]
    },
    {
      "cell_type": "code",
      "metadata": {
        "id": "QVJUX_5el5IU",
        "colab_type": "code",
        "colab": {
          "base_uri": "https://localhost:8080/",
          "height": 217
        },
        "outputId": "ae9e25e0-cd66-48e9-e09e-6aed9c944e61"
      },
      "source": [
        "%%R\n",
        "dataset = read.csv('Position_Salaries.csv')\n",
        "dataset = dataset[2:3]\n",
        "dataset"
      ],
      "execution_count": 23,
      "outputs": [
        {
          "output_type": "stream",
          "text": [
            "   Level  Salary\n",
            "1      1   45000\n",
            "2      2   50000\n",
            "3      3   60000\n",
            "4      4   80000\n",
            "5      5  110000\n",
            "6      6  150000\n",
            "7      7  200000\n",
            "8      8  300000\n",
            "9      9  500000\n",
            "10    10 1000000\n"
          ],
          "name": "stdout"
        }
      ]
    },
    {
      "cell_type": "code",
      "metadata": {
        "id": "lPCuVpNOnOtT",
        "colab_type": "code",
        "colab": {}
      },
      "source": [
        "%%R\n",
        "# # install.packages('caTools')\n",
        "# library(caTools)\n",
        "# set.seed(123)\n",
        "# split = sample.split(dataset$Salary, SplitRatio = 2/3)\n",
        "# training_set = subset(dataset, split == TRUE)\n",
        "# test_set = subset(dataset, split == FALSE)\n",
        "\n",
        "# Feature Scaling\n",
        "# training_set = scale(training_set)\n",
        "# test_set = scale(test_set)\n",
        "\n",
        "# Fitting Linear Regression to the dataset\n",
        "lin_reg = lm(formula = Salary ~ .,\n",
        "             data = dataset)\n"
      ],
      "execution_count": 24,
      "outputs": []
    },
    {
      "cell_type": "code",
      "metadata": {
        "id": "AL1g674-puoV",
        "colab_type": "code",
        "colab": {
          "base_uri": "https://localhost:8080/",
          "height": 217
        },
        "outputId": "fda37482-225e-4940-d9c4-d03ecce80a9a"
      },
      "source": [
        "%%R\n",
        "dataset$Level2 = dataset$Level^2\n",
        "poly_reg = lm(formula = Salary ~ .,\n",
        "              data = dataset)\n",
        "\n",
        "dataset"
      ],
      "execution_count": 26,
      "outputs": [
        {
          "output_type": "stream",
          "text": [
            "   Level  Salary Level2\n",
            "1      1   45000      1\n",
            "2      2   50000      4\n",
            "3      3   60000      9\n",
            "4      4   80000     16\n",
            "5      5  110000     25\n",
            "6      6  150000     36\n",
            "7      7  200000     49\n",
            "8      8  300000     64\n",
            "9      9  500000     81\n",
            "10    10 1000000    100\n"
          ],
          "name": "stdout"
        }
      ]
    },
    {
      "cell_type": "code",
      "metadata": {
        "id": "0Cdiir_woyAP",
        "colab_type": "code",
        "colab": {}
      },
      "source": [
        "%%R\n",
        "# Fitting Polynomial Regression to the dataset\n",
        "dataset$Level2 = dataset$Level^2\n",
        "dataset$Level3 = dataset$Level^3\n",
        "dataset$Level4 = dataset$Level^4\n",
        "poly_reg = lm(formula = Salary ~ .,\n",
        "              data = dataset)"
      ],
      "execution_count": 30,
      "outputs": []
    },
    {
      "cell_type": "code",
      "metadata": {
        "id": "-CH6_DWjqqZU",
        "colab_type": "code",
        "colab": {}
      },
      "source": [
        "%%R\n",
        "install.packages('ggplot2')"
      ],
      "execution_count": null,
      "outputs": []
    },
    {
      "cell_type": "code",
      "metadata": {
        "id": "zEY_drgVq5UU",
        "colab_type": "code",
        "colab": {
          "base_uri": "https://localhost:8080/",
          "height": 497
        },
        "outputId": "c5355e05-a751-45ac-96cf-b672598b912c"
      },
      "source": [
        "%%R\n",
        "library(ggplot2)\n",
        "ggplot() +\n",
        "  geom_point(aes(x = dataset$Level, y = dataset$Salary),\n",
        "             colour = 'red') +\n",
        "  geom_line(aes(x = dataset$Level, y = predict(lin_reg, newdata = dataset)),\n",
        "            colour = 'blue') +\n",
        "  ggtitle('Truth or Bluff (Linear Regression)') +\n",
        "  xlab('Level') +\n",
        "  ylab('Salary')"
      ],
      "execution_count": 31,
      "outputs": [
        {
          "output_type": "display_data",
          "data": {
            "image/png": "[encoded data removed]"
          },
          "metadata": {
            "tags": []
          }
        }
      ]
    },
    {
      "cell_type": "code",
      "metadata": {
        "id": "dJxzs9wGuABY",
        "colab_type": "code",
        "colab": {
          "base_uri": "https://localhost:8080/",
          "height": 497
        },
        "outputId": "0a384c3c-7d41-4484-f406-41ff59cf42fa"
      },
      "source": [
        "%%R\n",
        "# Visualising the Polynomial Regression results\n",
        "# install.packages('ggplot2')\n",
        "ggplot() +\n",
        "  geom_point(aes(x = dataset$Level, y = dataset$Salary),\n",
        "             colour = 'red') +\n",
        "  geom_line(aes(x = dataset$Level, y = predict(poly_reg, newdata = dataset)),\n",
        "            colour = 'blue') +\n",
        "  ggtitle('Truth or Bluff (Polynomial Regression)') +\n",
        "  xlab('Level') +\n",
        "  ylab('Salary')"
      ],
      "execution_count": 33,
      "outputs": [
        {
          "output_type": "display_data",
          "data": {
            "image/png": "[encoded data removed]"
          },
          "metadata": {
            "tags": []
          }
        }
      ]
    },
    {
      "cell_type": "code",
      "metadata": {
        "id": "guwacdCxKIzR",
        "colab_type": "code",
        "colab": {
          "base_uri": "https://localhost:8080/",
          "height": 54
        },
        "outputId": "477c54b6-680a-41e1-82bb-b6f434e9766d"
      },
      "source": [
        "%%R\n",
        "# Predicting a new result with Linear Regression\n",
        "predict(lin_reg, data.frame(Level = 6.5))"
      ],
      "execution_count": 35,
      "outputs": [
        {
          "output_type": "stream",
          "text": [
            "       1 \n",
            "330378.8 \n"
          ],
          "name": "stdout"
        }
      ]
    },
    {
      "cell_type": "code",
      "metadata": {
        "id": "2Bvy6NnZKND2",
        "colab_type": "code",
        "colab": {
          "base_uri": "https://localhost:8080/",
          "height": 54
        },
        "outputId": "b67e8d6c-b8f3-4791-c867-007bbfcbe9d8"
      },
      "source": [
        "%%R\n",
        "# Predicting a new result with Polynomial Regression\n",
        "predict(poly_reg, data.frame(Level = 6.5,\n",
        "                             Level2 = 6.5^2,\n",
        "                             Level3 = 6.5^3,\n",
        "                             Level4 = 6.5^4))"
      ],
      "execution_count": 36,
      "outputs": [
        {
          "output_type": "stream",
          "text": [
            "       1 \n",
            "158862.5 \n"
          ],
          "name": "stdout"
        }
      ]
    },
    {
      "cell_type": "code",
      "metadata": {
        "id": "63andGtxLIvY",
        "colab_type": "code",
        "colab": {}
      },
      "source": [
        "#***************todo el codigo en R*************************\n",
        "# Importing the dataset\n",
        "dataset = read.csv('Position_Salaries.csv')\n",
        "dataset = dataset[2:3]\n",
        "\n",
        "# Splitting the dataset into the Training set and Test set\n",
        "  # # install.packages('caTools')\n",
        "  # library(caTools)\n",
        "  # set.seed(123)\n",
        "  # split = sample.split(dataset$Salary, SplitRatio = 2/3)\n",
        "  # training_set = subset(dataset, split == TRUE)\n",
        "  # test_set = subset(dataset, split == FALSE)\n",
        "  \n",
        "  # Feature Scaling\n",
        "  # training_set = scale(training_set)\n",
        "  # test_set = scale(test_set)\n",
        "\n",
        "  # Fitting Linear Regression to the dataset\n",
        "  lin_reg = lm(formula = Salary ~ .,\n",
        "               data = dataset)\n",
        "\n",
        "  # Fitting Polynomial Regression to the dataset\n",
        "  dataset$Level2 = dataset$Level^2\n",
        "  dataset$Level3 = dataset$Level^3\n",
        "  dataset$Level4 = dataset$Level^4\n",
        "  poly_reg = lm(formula = Salary ~ .,\n",
        "                data = dataset)\n",
        "\n",
        "# Visualising the Linear Regression results\n",
        "# install.packages('ggplot2')\n",
        "  library(ggplot2)\n",
        "  ggplot() +\n",
        "    geom_point(aes(x = dataset$Level, y = dataset$Salary),\n",
        "               colour = 'red') +\n",
        "    geom_line(aes(x = dataset$Level, y = predict(lin_reg, newdata = dataset)),\n",
        "              colour = 'blue') +\n",
        "    ggtitle('Truth or Bluff (Linear Regression)') +\n",
        "    xlab('Level') +\n",
        "    ylab('Salary')\n",
        "\n",
        "  # Visualising the Polynomial Regression results\n",
        "  # install.packages('ggplot2')\n",
        "  library(ggplot2)\n",
        "  ggplot() +\n",
        "    geom_point(aes(x = dataset$Level, y = dataset$Salary),\n",
        "               colour = 'red') +\n",
        "    geom_line(aes(x = dataset$Level, y = predict(poly_reg, newdata = dataset)),\n",
        "              colour = 'blue') +\n",
        "    ggtitle('Truth or Bluff (Polynomial Regression)') +\n",
        "    xlab('Level') +\n",
        "    ylab('Salary')\n",
        "\n",
        "# Visualising the Regression Model results (for higher resolution and smoother curve)\n",
        "# install.packages('ggplot2')\n",
        "library(ggplot2)\n",
        "x_grid = seq(min(dataset$Level), max(dataset$Level), 0.1)\n",
        "ggplot() +\n",
        "  geom_point(aes(x = dataset$Level, y = dataset$Salary),\n",
        "             colour = 'red') +\n",
        "  geom_line(aes(x = x_grid, y = predict(poly_reg,\n",
        "                                        newdata = data.frame(Level = x_grid,\n",
        "                                                             Level2 = x_grid^2,\n",
        "                                                             Level3 = x_grid^3,\n",
        "                                                             Level4 = x_grid^4))),\n",
        "            colour = 'blue') +\n",
        "  ggtitle('Truth or Bluff (Polynomial Regression)') +\n",
        "  xlab('Level') +\n",
        "  ylab('Salary')\n",
        "\n",
        "# Predicting a new result with Linear Regression\n",
        "predict(lin_reg, data.frame(Level = 6.5))\n",
        "\n",
        "  # Predicting a new result with Polynomial Regression\n",
        "  predict(poly_reg, data.frame(Level = 6.5,\n",
        "                               Level2 = 6.5^2,\n",
        "                               Level3 = 6.5^3,\n",
        "                               Level4 = 6.5^4))"
      ],
      "execution_count": null,
      "outputs": []
    }
  ]
}