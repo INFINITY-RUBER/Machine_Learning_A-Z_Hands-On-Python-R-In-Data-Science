{
  "nbformat": 4,
  "nbformat_minor": 0,
  "metadata": {
    "colab": {
      "name": "Simple Linear Regression",
      "provenance": [],
      "toc_visible": true,
      "include_colab_link": true
    },
    "kernelspec": {
      "display_name": "Python 3",
      "language": "python",
      "name": "python3"
    },
    "language_info": {
      "codemirror_mode": {
        "name": "ipython",
        "version": 3
      },
      "file_extension": ".py",
      "mimetype": "text/x-python",
      "name": "python",
      "nbconvert_exporter": "python",
      "pygments_lexer": "ipython3",
      "version": "3.7.6"
    }
  },
  "cells": [
    {
      "cell_type": "markdown",
      "metadata": {
        "id": "view-in-github",
        "colab_type": "text"
      },
      "source": [
        "<a href=\"https://colab.research.google.com/github/INFINITY-RUBER/Machine_Learning_A-Z_Hands-On-Python-R-In-Data-Science/blob/master/Part%202%20-%20Regression/Section%204%20-%20Simple%20Linear%20Regression/Python/simple_linear_regression.ipynb\" target=\"_parent\"><img src=\"https://colab.research.google.com/assets/colab-badge.svg\" alt=\"Open In Colab\"/></a>"
      ]
    },
    {
      "cell_type": "markdown",
      "metadata": {
        "colab_type": "text",
        "id": "l_LulNCC8z96"
      },
      "source": [
        "# Simple Linear Regression\n",
        "(Regresión lineal simple)"
      ]
    },
    {
      "cell_type": "markdown",
      "metadata": {
        "colab_type": "text",
        "id": "xpXdowrE9DxW"
      },
      "source": [
        "## Importing the libraries"
      ]
    },
    {
      "cell_type": "code",
      "metadata": {
        "colab_type": "code",
        "id": "nhKd4hWx9GFt",
        "colab": {}
      },
      "source": [
        "import numpy as np\n",
        "import matplotlib.pyplot as plt\n",
        "import pandas as pd"
      ],
      "execution_count": 2,
      "outputs": []
    },
    {
      "cell_type": "markdown",
      "metadata": {
        "colab_type": "text",
        "id": "6JhpWJi59J1p"
      },
      "source": [
        "## Importing the dataset"
      ]
    },
    {
      "cell_type": "code",
      "metadata": {
        "colab_type": "code",
        "id": "f8GfYDZ59O18",
        "colab": {}
      },
      "source": [
        "dataset = pd.read_csv('Salary_Data.csv')\n",
        "X = dataset.iloc[:, :-1].values\n",
        "y = dataset.iloc[:, -1].values"
      ],
      "execution_count": 4,
      "outputs": []
    },
    {
      "cell_type": "code",
      "metadata": {
        "id": "Bna9gkDlJoQK",
        "colab_type": "code",
        "colab": {
          "base_uri": "https://localhost:8080/",
          "height": 290
        },
        "outputId": "f48ad404-d9a3-453f-db32-7465deaa3418"
      },
      "source": [
        "print(X[0:13])\n",
        "print(y[0:13])"
      ],
      "execution_count": 5,
      "outputs": [
        {
          "output_type": "stream",
          "text": [
            "[[1.1]\n",
            " [1.3]\n",
            " [1.5]\n",
            " [2. ]\n",
            " [2.2]\n",
            " [2.9]\n",
            " [3. ]\n",
            " [3.2]\n",
            " [3.2]\n",
            " [3.7]\n",
            " [3.9]\n",
            " [4. ]\n",
            " [4. ]]\n",
            "[39343. 46205. 37731. 43525. 39891. 56642. 60150. 54445. 64445. 57189.\n",
            " 63218. 55794. 56957.]\n"
          ],
          "name": "stdout"
        }
      ]
    },
    {
      "cell_type": "markdown",
      "metadata": {
        "colab_type": "text",
        "id": "AyhQaTwP9RzG"
      },
      "source": [
        "## Splitting the dataset into the Training set and Test set"
      ]
    },
    {
      "cell_type": "code",
      "metadata": {
        "colab_type": "code",
        "id": "bxOOauiN9VpC",
        "colab": {}
      },
      "source": [
        "from sklearn.model_selection import train_test_split\n",
        "# dividir los datos X_train, X_test, y_train, y_test\n",
        "X_train, X_test, y_train, y_test = train_test_split(X, y, test_size = 0.2, random_state = 0)"
      ],
      "execution_count": 8,
      "outputs": []
    },
    {
      "cell_type": "markdown",
      "metadata": {
        "colab_type": "text",
        "id": "ZijQwFMQ9itx"
      },
      "source": [
        "## Training the Simple Linear Regression model on the Training set"
      ]
    },
    {
      "cell_type": "code",
      "metadata": {
        "colab_type": "code",
        "id": "B4Aj_8YJ9l7J",
        "colab": {
          "base_uri": "https://localhost:8080/",
          "height": 35
        },
        "outputId": "db4a0c9f-4b89-4c8b-b9d2-4d5f15a1dfb8"
      },
      "source": [
        "from sklearn.linear_model import LinearRegression\n",
        "regressor = LinearRegression()\n",
        "regressor.fit(X_train, y_train)# genera un objeto del modelo de regresion lineal en la variable regressor"
      ],
      "execution_count": 9,
      "outputs": [
        {
          "output_type": "execute_result",
          "data": {
            "text/plain": [
              "LinearRegression(copy_X=True, fit_intercept=True, n_jobs=None, normalize=False)"
            ]
          },
          "metadata": {
            "tags": []
          },
          "execution_count": 9
        }
      ]
    },
    {
      "cell_type": "markdown",
      "metadata": {
        "colab_type": "text",
        "id": "wa2T1Lq89o5H"
      },
      "source": [
        "## Predicting the Test set results\n",
        "(Predecir los resultados del conjunto de pruebas)"
      ]
    },
    {
      "cell_type": "code",
      "metadata": {
        "colab_type": "code",
        "id": "Rn_sTJ2o9smm",
        "colab": {
          "base_uri": "https://localhost:8080/",
          "height": 54
        },
        "outputId": "7d6eb4d6-ed6b-4cea-c8e7-123bddc28597"
      },
      "source": [
        "y_pred = regressor.predict(X_test)\n",
        "y_pred"
      ],
      "execution_count": 10,
      "outputs": [
        {
          "output_type": "execute_result",
          "data": {
            "text/plain": [
              "array([ 40748.96184072, 122699.62295594,  64961.65717022,  63099.14214487,\n",
              "       115249.56285456, 107799.50275317])"
            ]
          },
          "metadata": {
            "tags": []
          },
          "execution_count": 10
        }
      ]
    },
    {
      "cell_type": "markdown",
      "metadata": {
        "colab_type": "text",
        "id": "-zSoMZ-P9v8t"
      },
      "source": [
        "## Visualising the Training set results"
      ]
    },
    {
      "cell_type": "code",
      "metadata": {
        "colab_type": "code",
        "id": "IAePn_u-93tI",
        "colab": {
          "base_uri": "https://localhost:8080/",
          "height": 343
        },
        "outputId": "94361d8b-1a03-420f-a811-9e8e4a3aec73"
      },
      "source": [
        "plt.style.use('fivethirtyeight')\n",
        "plt.style.use('dark_background')\n",
        "plt.scatter(X_train, y_train, color = 'red')\n",
        "plt.plot(X_train, regressor.predict(X_train), color = 'blue')# regressor.predict(X_train) >> es valor de Y predecidos\n",
        "plt.title('Salary vs Experience (Training set)')\n",
        "plt.xlabel('Years of Experience')\n",
        "plt.ylabel('Salary')\n",
        "plt.show()\n",
        "\n",
        "plt"
      ],
      "execution_count": 27,
      "outputs": [
        {
          "output_type": "display_data",
          "data": {
            "image/png": "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\n",
            "text/plain": [
              "<Figure size 432x288 with 1 Axes>"
            ]
          },
          "metadata": {
            "tags": []
          }
        },
        {
          "output_type": "execute_result",
          "data": {
            "text/plain": [
              "<module 'matplotlib.pyplot' from '/usr/local/lib/python3.6/dist-packages/matplotlib/pyplot.py'>"
            ]
          },
          "metadata": {
            "tags": []
          },
          "execution_count": 27
        }
      ]
    },
    {
      "cell_type": "markdown",
      "metadata": {
        "colab_type": "text",
        "id": "EUX1Vhsv97ZT"
      },
      "source": [
        "## Visualising the Test set results"
      ]
    },
    {
      "cell_type": "code",
      "metadata": {
        "colab_type": "code",
        "id": "Ze9vpBTf-Bol",
        "colab": {
          "base_uri": "https://localhost:8080/",
          "height": 325
        },
        "outputId": "69c8ed77-a94b-46c2-e902-44b3aaef2b24"
      },
      "source": [
        "plt.scatter(X_test, y_test, color = 'blue')# nue de puntos\n",
        "plt.plot(X_train, regressor.predict(X_train), color = 'red')\n",
        "plt.title('Salary vs Experience (Test set)')\n",
        "plt.xlabel('Years of Experience')\n",
        "plt.ylabel('Salary')\n",
        "plt.show()"
      ],
      "execution_count": 28,
      "outputs": [
        {
          "output_type": "display_data",
          "data": {
            "image/png": "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\n",
            "text/plain": [
              "<Figure size 432x288 with 1 Axes>"
            ]
          },
          "metadata": {
            "tags": []
          }
        }
      ]
    },
    {
      "cell_type": "markdown",
      "metadata": {
        "id": "NXfz6ZF-MpGQ",
        "colab_type": "text"
      },
      "source": [
        "## Hacer una sola predicción (por ejemplo, el salario de un empleado con 12 años de experiencia)"
      ]
    },
    {
      "cell_type": "code",
      "metadata": {
        "id": "jEVpWFezGndu",
        "colab_type": "code",
        "colab": {
          "base_uri": "https://localhost:8080/",
          "height": 35
        },
        "outputId": "8c4969ed-2651-41f6-9380-bf6cfffbfefd"
      },
      "source": [
        "print(regressor.predict([[12]]))"
      ],
      "execution_count": 29,
      "outputs": [
        {
          "output_type": "stream",
          "text": [
            "[138531.00067138]\n"
          ],
          "name": "stdout"
        }
      ]
    },
    {
      "cell_type": "markdown",
      "metadata": {
        "id": "jSDtRssbNOTY",
        "colab_type": "text"
      },
      "source": [
        "Por lo tanto, nuestro modelo predice que el salario de un empleado con 12 años de experiencia es de $ 138967,5\n",
        "\n",
        "**Nota importante**: observe que el valor de la función (12 años) se ingresó en un par doble de corchetes. Esto se debe a que el método \"predecir\" siempre espera una matriz 2D como formato de sus entradas. Y poner 12 en un par doble de corchetes hace que la entrada sea exactamente una matriz 2D. Simplemente pon:\n",
        "\n",
        "**12→scalar**\n",
        "\n",
        "**[12]→1D array** \n",
        "\n",
        "**[[12]]→2D array**\n"
      ]
    },
    {
      "cell_type": "markdown",
      "metadata": {
        "id": "rz9soiDOOGf2",
        "colab_type": "text"
      },
      "source": [
        "## Obtener la ecuación de regresión lineal final con los valores de los coeficientes.\n",
        "\n",
        "**y =  b1X + b0**"
      ]
    },
    {
      "cell_type": "code",
      "metadata": {
        "id": "4WRe5x1RONQY",
        "colab_type": "code",
        "colab": {
          "base_uri": "https://localhost:8080/",
          "height": 54
        },
        "outputId": "e3ce7eb7-d47a-4e9c-c62a-f0c0a2fb969f"
      },
      "source": [
        "print(regressor.coef_)\n",
        "print(regressor.intercept_)"
      ],
      "execution_count": 30,
      "outputs": [
        {
          "output_type": "stream",
          "text": [
            "[9312.57512673]\n",
            "26780.09915062818\n"
          ],
          "name": "stdout"
        }
      ]
    },
    {
      "cell_type": "markdown",
      "metadata": {
        "id": "QqSUK13PPFuJ",
        "colab_type": "text"
      },
      "source": [
        "Por lo tanto, la ecuación de nuestro modelo de regresión lineal simple es:\n",
        "\n",
        "## Salary = 9312.5 × YearsExperience + 26780.09\n",
        "\n",
        "**Nota importante:** Para obtener estos coeficientes, llamamos a los atributos \"coef_\" e \"intercept_\" de nuestro objeto regresor. Los atributos en Python son diferentes a los métodos y generalmente devuelven un valor simple o una matriz de valores."
      ]
    },
    {
      "cell_type": "code",
      "metadata": {
        "id": "1rBP_ZLpPcIA",
        "colab_type": "code",
        "colab": {}
      },
      "source": [
        ""
      ],
      "execution_count": null,
      "outputs": []
    }
<<<<<<< HEAD
   ],
   "source": [
    "plt.scatter(X_test, y_test, color = 'red')\n",
    "plt.plot(X_train, regressor.predict(X_train), color = 'blue')\n",
    "plt.title('Salary vs Experience (Test set)')\n",
    "plt.xlabel('Years of Experience')\n",
    "plt.ylabel('Salary')\n",
    "plt.show()"
   ]
  },
  {
   "cell_type": "code",
   "execution_count": null,
   "metadata": {},
   "outputs": [],
   "source": []
  }
 ],
 "metadata": {
  "colab": {
   "authorship_tag": "ABX9TyP1VVwrQU8S68bmX5lftYWC",
   "name": "Simple Linear Regression",
   "provenance": [],
   "toc_visible": true
  },
  "kernelspec": {
   "display_name": "Python 3",
   "language": "python",
   "name": "python3"
  },
  "language_info": {
   "codemirror_mode": {
    "name": "ipython",
    "version": 3
   },
   "file_extension": ".py",
   "mimetype": "text/x-python",
   "name": "python",
   "nbconvert_exporter": "python",
   "pygments_lexer": "ipython3",
   "version": "3.7.4"
  }
 },
 "nbformat": 4,
 "nbformat_minor": 1
}
=======
  ]
}
>>>>>>> 50e88c82d5bdc320e2b30f8e28e10560ef2dadc9
