{
  "nbformat": 4,
  "nbformat_minor": 0,
  "metadata": {
    "colab": {
      "name": "Multiple Linear Regression- en R_con python",
      "provenance": [],
      "private_outputs": true,
      "authorship_tag": "ABX9TyOkGZmBxqbu6HjsGrhH/9Ml",
      "include_colab_link": true
    },
    "kernelspec": {
      "name": "python3",
      "display_name": "Python 3"
    }
  },
  "cells": [
    {
      "cell_type": "markdown",
      "metadata": {
        "id": "view-in-github",
        "colab_type": "text"
      },
      "source": [
        "<a href=\"https://colab.research.google.com/github/INFINITY-RUBER/Machine_Learning_A-Z_Hands-On-Python-R-In-Data-Science/blob/master/Part%202%20-%20Regression/Section%205%20-%20Multiple%20Linear%20Regression/Multiple_Linear_Regression_en_R_con_python.ipynb\" target=\"_parent\"><img src=\"https://colab.research.google.com/assets/colab-badge.svg\" alt=\"Open In Colab\"/></a>"
      ]
    },
    {
      "cell_type": "code",
      "metadata": {
        "id": "rxlhJBQncA4W",
        "colab_type": "code",
        "colab": {}
      },
      "source": [
        "import pandas as pd\n",
        "import numpy as np\n",
        "import rpy2.robjects as ro\n",
        "import rpy2.robjects.numpy2ri"
      ],
      "execution_count": null,
      "outputs": []
    },
    {
      "cell_type": "code",
      "metadata": {
        "id": "kvF9nIy5d7yC",
        "colab_type": "code",
        "colab": {}
      },
      "source": [
        "%load_ext rpy2.ipython"
      ],
      "execution_count": null,
      "outputs": []
    },
    {
      "cell_type": "code",
      "metadata": {
        "id": "ZjKLl-nkeA1T",
        "colab_type": "code",
        "colab": {}
      },
      "source": [
        "help(rpy2.ipython.rmagic.RMagics.R)"
      ],
      "execution_count": null,
      "outputs": []
    },
    {
      "cell_type": "code",
      "metadata": {
        "id": "Ryc8-HTvgA5I",
        "colab_type": "code",
        "colab": {}
      },
      "source": [
        "ro.r(\"install.packages('caTools')\")"
      ],
      "execution_count": null,
      "outputs": []
    },
    {
      "cell_type": "code",
      "metadata": {
        "id": "8jnQ8rTTe1r3",
        "colab_type": "code",
        "colab": {}
      },
      "source": [
        "%%R\n",
        "dataset = read.csv('/content/50_Startups.csv')\n"
      ],
      "execution_count": null,
      "outputs": []
    },
    {
      "cell_type": "code",
      "metadata": {
        "id": "HhnuFUmNeFli",
        "colab_type": "code",
        "colab": {}
      },
      "source": [
        "%%R\n",
        "library(caTools)\n",
        "  set.seed(123)"
      ],
      "execution_count": null,
      "outputs": []
    },
    {
      "cell_type": "code",
      "metadata": {
        "id": "RXiUXfqmgfVR",
        "colab_type": "code",
        "colab": {}
      },
      "source": [
        "%%R\n",
        "dataset$State = factor(dataset$State,\n",
        "                       levels = c('New York', 'California', 'Florida'),\n",
        "                       labels = c(1, 2, 3))\n",
        "split = sample.split(dataset$Profit, SplitRatio = 0.8)\n",
        "training_set = subset(dataset, split == TRUE)\n",
        "test_set = subset(dataset, split == FALSE)"
      ],
      "execution_count": null,
      "outputs": []
    },
    {
      "cell_type": "code",
      "metadata": {
        "id": "2yUwi6tnhjO3",
        "colab_type": "code",
        "colab": {}
      },
      "source": [
        "# Feature Scaling\n",
        "# training_set = scale(training_set)\n",
        "# test_set = scale(test_set)\n",
        "\n",
        "# Fitting Multiple Linear Regression to the Training set\n",
        "%%R\n",
        "regressor = lm(formula = Profit ~ .,\n",
        "               data = training_set)\n",
        "y_pred = predict(regressor, newdata = test_set)\n",
        "summary(regressor)\n"
      ],
      "execution_count": null,
      "outputs": []
    },
    {
      "cell_type": "code",
      "metadata": {
        "id": "iGtSyFsQaZOV",
        "colab_type": "code",
        "colab": {}
      },
      "source": [
        "%%R\n",
        "# Predicting the Test set results\n",
        "y_pred = predict(regressor, newdata = test_set)\n",
        "y_pred"
      ],
      "execution_count": null,
      "outputs": []
    },
    {
      "cell_type": "markdown",
      "metadata": {
        "id": "f8MvmnqCcBcA",
        "colab_type": "text"
      },
      "source": [
        "### Metodo para la regrecion hacia atraz por eliminacion"
      ]
    },
    {
      "cell_type": "code",
      "metadata": {
        "id": "dBWW-uFkcLeb",
        "colab_type": "code",
        "colab": {}
      },
      "source": [
        "%%R\n",
        "regressor = lm(formula = Profit ~ R.D.Spend + Administration + Marketing.Spend + State,\n",
        "               data = dataset)\n",
        "summary(regressor)"
      ],
      "execution_count": null,
      "outputs": []
    },
    {
      "cell_type": "code",
      "metadata": {
        "id": "GzlLHeJ6dAzT",
        "colab_type": "code",
        "colab": {}
      },
      "source": [
        "%%R\n",
        "regressor = lm(formula = Profit ~ R.D.Spend + Administration + Marketing.Spend,\n",
        "               data = dataset)\n",
        "summary(regressor)"
      ],
      "execution_count": null,
      "outputs": []
    },
    {
      "cell_type": "code",
      "metadata": {
        "id": "OEgq6xOBefTG",
        "colab_type": "code",
        "colab": {}
      },
      "source": [
        "%%R\n",
        "regressor = lm(formula = Profit ~ R.D.Spend + Marketing.Spend,\n",
        "               data = dataset)\n",
        "summary(regressor)"
      ],
      "execution_count": null,
      "outputs": []
    },
    {
      "cell_type": "code",
      "metadata": {
        "id": "Aji5_z3WfRb3",
        "colab_type": "code",
        "colab": {}
      },
      "source": [
        "%%R\n",
        "regressor = lm(formula = Profit ~ R.D.Spend ,\n",
        "               data = dataset)\n",
        "summary(regressor)"
      ],
      "execution_count": null,
      "outputs": []
    },
    {
      "cell_type": "code",
      "metadata": {
        "id": "kvjXvFnwceKY",
        "colab_type": "code",
        "colab": {}
      },
      "source": [
        "%%R \n",
        "dataset"
      ],
      "execution_count": null,
      "outputs": []
    },
    {
      "cell_type": "markdown",
      "metadata": {
        "id": "5x9XIBdfjGyp",
        "colab_type": "text"
      },
      "source": [
        "# Si también está interesado en una implementación automática de Backward Elimination en R, aquí está:"
      ]
    },
    {
      "cell_type": "code",
      "metadata": {
        "id": "4DE_OgerjEIW",
        "colab_type": "code",
        "colab": {}
      },
      "source": [
        "%%R \n",
        "backwardElimination <- function(x, sl) {\n",
        "    numVars = length(x)\n",
        "    for (i in c(1:numVars)){\n",
        "      regressor = lm(formula = Profit ~ ., data = x)\n",
        "      maxVar = max(coef(summary(regressor))[c(2:numVars), \"Pr(>|t|)\"])\n",
        "      if (maxVar > sl){\n",
        "        j = which(coef(summary(regressor))[c(2:numVars), \"Pr(>|t|)\"] == maxVar)\n",
        "        x = x[, -j]\n",
        "      }\n",
        "      numVars = numVars - 1\n",
        "    }\n",
        "    return(summary(regressor))\n",
        "  }\n",
        "  \n",
        "  SL = 0.05\n",
        "  dataset = dataset[, c(1,2,3,4,5)]\n",
        "  backwardElimination(training_set, SL)"
      ],
      "execution_count": null,
      "outputs": []
    }
  ]
}